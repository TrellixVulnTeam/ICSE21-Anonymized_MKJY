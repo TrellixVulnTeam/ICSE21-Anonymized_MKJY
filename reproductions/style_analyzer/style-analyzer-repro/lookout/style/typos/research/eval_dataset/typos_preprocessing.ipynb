{
 "cells": [
  {
   "cell_type": "code",
   "execution_count": 1,
   "metadata": {},
   "outputs": [],
   "source": [
    "import pandas as pd\n",
    "from pyxdameraulevenshtein import damerau_levenshtein_distance as distance\n",
    "from lookout.style.typos.analyzer import IdTyposAnalyzer"
   ]
  },
  {
   "cell_type": "code",
   "execution_count": 2,
   "metadata": {},
   "outputs": [
    {
     "name": "stdout",
     "output_type": "stream",
     "text": [
      "Number of samples is 2471\n"
     ]
    }
   ],
   "source": [
    "df = pd.read_csv(\"typos_dataset.csv.gz\", header=None)\n",
    "print(\"Number of samples is\", df.shape[0])"
   ]
  },
  {
   "cell_type": "code",
   "execution_count": 3,
   "metadata": {},
   "outputs": [
    {
     "data": {
      "text/html": [
       "<div>\n",
       "<style scoped>\n",
       "    .dataframe tbody tr th:only-of-type {\n",
       "        vertical-align: middle;\n",
       "    }\n",
       "\n",
       "    .dataframe tbody tr th {\n",
       "        vertical-align: top;\n",
       "    }\n",
       "\n",
       "    .dataframe thead th {\n",
       "        text-align: right;\n",
       "    }\n",
       "</style>\n",
       "<table border=\"1\" class=\"dataframe\">\n",
       "  <thead>\n",
       "    <tr style=\"text-align: right;\">\n",
       "      <th></th>\n",
       "      <th>id</th>\n",
       "      <th>correct_id</th>\n",
       "      <th>file</th>\n",
       "      <th>line</th>\n",
       "      <th>commit_hash</th>\n",
       "      <th>repo</th>\n",
       "    </tr>\n",
       "  </thead>\n",
       "  <tbody>\n",
       "    <tr>\n",
       "      <th>0</th>\n",
       "      <td>INERNET_TEST_URL</td>\n",
       "      <td>INTERNET_TEST_URL</td>\n",
       "      <td>run.py</td>\n",
       "      <td>264</td>\n",
       "      <td>74c662301e30c1a590dde50dbba5c17bab21c2ed</td>\n",
       "      <td>topless/gae-init</td>\n",
       "    </tr>\n",
       "    <tr>\n",
       "      <th>1</th>\n",
       "      <td>emplyeeList</td>\n",
       "      <td>employeeList</td>\n",
       "      <td>Websites/RuffCo-website/App_Code/DBHandlers/DB...</td>\n",
       "      <td>15</td>\n",
       "      <td>37c9210c421793d81cdb74f3c722ef817b2e9797</td>\n",
       "      <td>claytonr1/TeamMefford</td>\n",
       "    </tr>\n",
       "    <tr>\n",
       "      <th>2</th>\n",
       "      <td>includeKeword</td>\n",
       "      <td>includeKeyword</td>\n",
       "      <td>dcm4che-core/src/main/java/org/dcm4che3/io/XSL...</td>\n",
       "      <td>93</td>\n",
       "      <td>d99055a9ceb5a210b9591993f7d32ba7c1aa9626</td>\n",
       "      <td>dcm4che/dcm4che</td>\n",
       "    </tr>\n",
       "    <tr>\n",
       "      <th>3</th>\n",
       "      <td>typeAheadMinimumCharacterCount</td>\n",
       "      <td>typeAheadMinimumCharaceterCount</td>\n",
       "      <td>Frameworks/D2W/ERModernDirectToWeb/Sources/er/...</td>\n",
       "      <td>375</td>\n",
       "      <td>9ec14ca30d5792567bf73c945f38aa1028fed5c6</td>\n",
       "      <td>fbarthez/wonder</td>\n",
       "    </tr>\n",
       "    <tr>\n",
       "      <th>4</th>\n",
       "      <td>versionAvailabe</td>\n",
       "      <td>versionAvailable</td>\n",
       "      <td>src/ch/jbead/JBeadFrame.java</td>\n",
       "      <td>1187</td>\n",
       "      <td>eddb65c3e083334339a09d59fea78c3a105ba8c4</td>\n",
       "      <td>damianbrunold/jbead</td>\n",
       "    </tr>\n",
       "  </tbody>\n",
       "</table>\n",
       "</div>"
      ],
      "text/plain": [
       "                               id                       correct_id  \\\n",
       "0                INERNET_TEST_URL                INTERNET_TEST_URL   \n",
       "1                     emplyeeList                     employeeList   \n",
       "2                   includeKeword                   includeKeyword   \n",
       "3  typeAheadMinimumCharacterCount  typeAheadMinimumCharaceterCount   \n",
       "4                 versionAvailabe                 versionAvailable   \n",
       "\n",
       "                                                file  line  \\\n",
       "0                                             run.py   264   \n",
       "1  Websites/RuffCo-website/App_Code/DBHandlers/DB...    15   \n",
       "2  dcm4che-core/src/main/java/org/dcm4che3/io/XSL...    93   \n",
       "3  Frameworks/D2W/ERModernDirectToWeb/Sources/er/...   375   \n",
       "4                       src/ch/jbead/JBeadFrame.java  1187   \n",
       "\n",
       "                                commit_hash                   repo  \n",
       "0  74c662301e30c1a590dde50dbba5c17bab21c2ed       topless/gae-init  \n",
       "1  37c9210c421793d81cdb74f3c722ef817b2e9797  claytonr1/TeamMefford  \n",
       "2  d99055a9ceb5a210b9591993f7d32ba7c1aa9626        dcm4che/dcm4che  \n",
       "3  9ec14ca30d5792567bf73c945f38aa1028fed5c6        fbarthez/wonder  \n",
       "4  eddb65c3e083334339a09d59fea78c3a105ba8c4    damianbrunold/jbead  "
      ]
     },
     "execution_count": 3,
     "metadata": {},
     "output_type": "execute_result"
    }
   ],
   "source": [
    "df.columns = \"id,correct_id,file,line,commit_hash,repo\".split(\",\")\n",
    "df.head()"
   ]
  },
  {
   "cell_type": "code",
   "execution_count": 4,
   "metadata": {},
   "outputs": [
    {
     "name": "stdout",
     "output_type": "stream",
     "text": [
      "Number of samples after deduplication 2155\n"
     ]
    }
   ],
   "source": [
    "deduplicated_df = df.drop_duplicates(subset=['id', 'correct_id'], keep=\"first\")\n",
    "print(\"Number of samples after deduplication\", deduplicated_df.shape[0])"
   ]
  },
  {
   "cell_type": "code",
   "execution_count": 5,
   "metadata": {},
   "outputs": [],
   "source": [
    "splitter = IdTyposAnalyzer.create_token_parser()\n",
    "\n",
    "def check_line(line):\n",
    "    identifier = line.id\n",
    "    correct_id = line.correct_id\n",
    "    tokens = list(splitter.split(identifier))\n",
    "    corr_tokens = list(splitter.split(correct_id))\n",
    "    if len(tokens) != len(corr_tokens):\n",
    "        return \"Number of subtokens is different\"\n",
    "    if not len(tokens):\n",
    "        return \"Identifier without alphabetic characters\"\n",
    "    res = []\n",
    "    for t, ct in zip(tokens, corr_tokens):\n",
    "        if distance(t, ct) > 2:\n",
    "            res.append((t, ct))\n",
    "    if res:\n",
    "        return \"Suspicious tokens %s\" % res\n",
    "    return \"\""
   ]
  },
  {
   "cell_type": "code",
   "execution_count": 6,
   "metadata": {},
   "outputs": [
    {
     "name": "stderr",
     "output_type": "stream",
     "text": [
      "/usr/local/lib/python3.5/dist-packages/ipykernel_launcher.py:1: SettingWithCopyWarning: \n",
      "A value is trying to be set on a copy of a slice from a DataFrame.\n",
      "Try using .loc[row_indexer,col_indexer] = value instead\n",
      "\n",
      "See the caveats in the documentation: http://pandas.pydata.org/pandas-docs/stable/indexing.html#indexing-view-versus-copy\n",
      "  \"\"\"Entry point for launching an IPython kernel.\n"
     ]
    },
    {
     "name": "stdout",
     "output_type": "stream",
     "text": [
      "Number of samples with different number of tokens  203\n",
      "Number of samples with big Demerau-Levenshtein distance 93\n",
      "Number of samples without alphabetic characters 3\n"
     ]
    }
   ],
   "source": [
    "deduplicated_df[\"check\"] = deduplicated_df.apply(check_line, axis=1)\n",
    "diff_tokens = deduplicated_df[deduplicated_df[\"check\"].str.startswith(\"Number\")]\n",
    "print(\"Number of samples with different number of tokens \", diff_tokens.shape[0])\n",
    "suspicious_tokens = deduplicated_df[deduplicated_df[\"check\"].str.startswith(\"Suspicious\")]\n",
    "print(\"Number of samples with big Demerau-Levenshtein distance\", suspicious_tokens.shape[0])\n",
    "no_alpha_tokens = deduplicated_df[deduplicated_df[\"check\"].str.startswith(\"Identifier\")]\n",
    "print(\"Number of samples without alphabetic characters\", no_alpha_tokens.shape[0])"
   ]
  },
  {
   "cell_type": "code",
   "execution_count": 7,
   "metadata": {},
   "outputs": [
    {
     "data": {
      "text/html": [
       "<div>\n",
       "<style scoped>\n",
       "    .dataframe tbody tr th:only-of-type {\n",
       "        vertical-align: middle;\n",
       "    }\n",
       "\n",
       "    .dataframe tbody tr th {\n",
       "        vertical-align: top;\n",
       "    }\n",
       "\n",
       "    .dataframe thead th {\n",
       "        text-align: right;\n",
       "    }\n",
       "</style>\n",
       "<table border=\"1\" class=\"dataframe\">\n",
       "  <thead>\n",
       "    <tr style=\"text-align: right;\">\n",
       "      <th></th>\n",
       "      <th>id</th>\n",
       "      <th>correct_id</th>\n",
       "      <th>check</th>\n",
       "    </tr>\n",
       "  </thead>\n",
       "  <tbody>\n",
       "    <tr>\n",
       "      <th>30</th>\n",
       "      <td>Zend_Filter_Htmlentities</td>\n",
       "      <td>Zend_Filter_HtmlEntities</td>\n",
       "      <td>Number of subtokens is different</td>\n",
       "    </tr>\n",
       "    <tr>\n",
       "      <th>58</th>\n",
       "      <td>getServerURl</td>\n",
       "      <td>getServerURL</td>\n",
       "      <td>Number of subtokens is different</td>\n",
       "    </tr>\n",
       "    <tr>\n",
       "      <th>65</th>\n",
       "      <td>startswith</td>\n",
       "      <td>startsWith</td>\n",
       "      <td>Number of subtokens is different</td>\n",
       "    </tr>\n",
       "    <tr>\n",
       "      <th>67</th>\n",
       "      <td>expected_to</td>\n",
       "      <td>to</td>\n",
       "      <td>Number of subtokens is different</td>\n",
       "    </tr>\n",
       "    <tr>\n",
       "      <th>68</th>\n",
       "      <td>createnewAppInstance</td>\n",
       "      <td>createNewAppInstance</td>\n",
       "      <td>Number of subtokens is different</td>\n",
       "    </tr>\n",
       "  </tbody>\n",
       "</table>\n",
       "</div>"
      ],
      "text/plain": [
       "                          id                correct_id  \\\n",
       "30  Zend_Filter_Htmlentities  Zend_Filter_HtmlEntities   \n",
       "58              getServerURl              getServerURL   \n",
       "65                startswith                startsWith   \n",
       "67               expected_to                        to   \n",
       "68      createnewAppInstance      createNewAppInstance   \n",
       "\n",
       "                               check  \n",
       "30  Number of subtokens is different  \n",
       "58  Number of subtokens is different  \n",
       "65  Number of subtokens is different  \n",
       "67  Number of subtokens is different  \n",
       "68  Number of subtokens is different  "
      ]
     },
     "execution_count": 7,
     "metadata": {},
     "output_type": "execute_result"
    }
   ],
   "source": [
    "diff_tokens[[\"id\", \"correct_id\", \"check\"]].head()"
   ]
  },
  {
   "cell_type": "code",
   "execution_count": 8,
   "metadata": {},
   "outputs": [
    {
     "data": {
      "text/html": [
       "<div>\n",
       "<style scoped>\n",
       "    .dataframe tbody tr th:only-of-type {\n",
       "        vertical-align: middle;\n",
       "    }\n",
       "\n",
       "    .dataframe tbody tr th {\n",
       "        vertical-align: top;\n",
       "    }\n",
       "\n",
       "    .dataframe thead th {\n",
       "        text-align: right;\n",
       "    }\n",
       "</style>\n",
       "<table border=\"1\" class=\"dataframe\">\n",
       "  <thead>\n",
       "    <tr style=\"text-align: right;\">\n",
       "      <th></th>\n",
       "      <th>id</th>\n",
       "      <th>correct_id</th>\n",
       "      <th>check</th>\n",
       "    </tr>\n",
       "  </thead>\n",
       "  <tbody>\n",
       "    <tr>\n",
       "      <th>36</th>\n",
       "      <td>should_be_two_failures</td>\n",
       "      <td>should_be_three_failures</td>\n",
       "      <td>Suspicious tokens [('two', 'three')]</td>\n",
       "    </tr>\n",
       "    <tr>\n",
       "      <th>71</th>\n",
       "      <td>longentropysel</td>\n",
       "      <td>entropysel</td>\n",
       "      <td>Suspicious tokens [('longentropysel', 'entropy...</td>\n",
       "    </tr>\n",
       "    <tr>\n",
       "      <th>80</th>\n",
       "      <td>LocalizedNameImpl</td>\n",
       "      <td>LocalizedURIImpl</td>\n",
       "      <td>Suspicious tokens [('name', 'urii')]</td>\n",
       "    </tr>\n",
       "    <tr>\n",
       "      <th>81</th>\n",
       "      <td>LocalizedNameMarshaller</td>\n",
       "      <td>LocalizedURIMarshaller</td>\n",
       "      <td>Suspicious tokens [('name', 'urim')]</td>\n",
       "    </tr>\n",
       "    <tr>\n",
       "      <th>82</th>\n",
       "      <td>LocalizedNameUnmarshaller</td>\n",
       "      <td>LocalizedURIUnmarshaller</td>\n",
       "      <td>Suspicious tokens [('name', 'uriu')]</td>\n",
       "    </tr>\n",
       "  </tbody>\n",
       "</table>\n",
       "</div>"
      ],
      "text/plain": [
       "                           id                correct_id  \\\n",
       "36     should_be_two_failures  should_be_three_failures   \n",
       "71             longentropysel                entropysel   \n",
       "80          LocalizedNameImpl          LocalizedURIImpl   \n",
       "81    LocalizedNameMarshaller    LocalizedURIMarshaller   \n",
       "82  LocalizedNameUnmarshaller  LocalizedURIUnmarshaller   \n",
       "\n",
       "                                                check  \n",
       "36               Suspicious tokens [('two', 'three')]  \n",
       "71  Suspicious tokens [('longentropysel', 'entropy...  \n",
       "80               Suspicious tokens [('name', 'urii')]  \n",
       "81               Suspicious tokens [('name', 'urim')]  \n",
       "82               Suspicious tokens [('name', 'uriu')]  "
      ]
     },
     "execution_count": 8,
     "metadata": {},
     "output_type": "execute_result"
    }
   ],
   "source": [
    "suspicious_tokens[[\"id\", \"correct_id\", \"check\"]].head()"
   ]
  },
  {
   "cell_type": "code",
   "execution_count": 9,
   "metadata": {},
   "outputs": [
    {
     "data": {
      "text/html": [
       "<div>\n",
       "<style scoped>\n",
       "    .dataframe tbody tr th:only-of-type {\n",
       "        vertical-align: middle;\n",
       "    }\n",
       "\n",
       "    .dataframe tbody tr th {\n",
       "        vertical-align: top;\n",
       "    }\n",
       "\n",
       "    .dataframe thead th {\n",
       "        text-align: right;\n",
       "    }\n",
       "</style>\n",
       "<table border=\"1\" class=\"dataframe\">\n",
       "  <thead>\n",
       "    <tr style=\"text-align: right;\">\n",
       "      <th></th>\n",
       "      <th>id</th>\n",
       "      <th>correct_id</th>\n",
       "      <th>check</th>\n",
       "    </tr>\n",
       "  </thead>\n",
       "  <tbody>\n",
       "    <tr>\n",
       "      <th>416</th>\n",
       "      <td>_72</td>\n",
       "      <td>_54</td>\n",
       "      <td>Identifier without alphabetic characters</td>\n",
       "    </tr>\n",
       "    <tr>\n",
       "      <th>417</th>\n",
       "      <td>_37</td>\n",
       "      <td>_10</td>\n",
       "      <td>Identifier without alphabetic characters</td>\n",
       "    </tr>\n",
       "    <tr>\n",
       "      <th>418</th>\n",
       "      <td>_51</td>\n",
       "      <td>_72</td>\n",
       "      <td>Identifier without alphabetic characters</td>\n",
       "    </tr>\n",
       "  </tbody>\n",
       "</table>\n",
       "</div>"
      ],
      "text/plain": [
       "      id correct_id                                     check\n",
       "416  _72        _54  Identifier without alphabetic characters\n",
       "417  _37        _10  Identifier without alphabetic characters\n",
       "418  _51        _72  Identifier without alphabetic characters"
      ]
     },
     "execution_count": 9,
     "metadata": {},
     "output_type": "execute_result"
    }
   ],
   "source": [
    "no_alpha_tokens[[\"id\", \"correct_id\", \"check\"]].head()"
   ]
  },
  {
   "cell_type": "code",
   "execution_count": 10,
   "metadata": {},
   "outputs": [
    {
     "name": "stdout",
     "output_type": "stream",
     "text": [
      "Number of samples after deduplication and filtering 1856\n"
     ]
    }
   ],
   "source": [
    "to_save = deduplicated_df[deduplicated_df[\"check\"] == \"\"][\"id,correct_id,file,line,commit_hash,repo\".split(\",\")]\n",
    "print(\"Number of samples after deduplication and filtering\", to_save.shape[0])\n",
    "to_save.to_csv(\"typos_dataset_filtered_damerau_levenshtein.csv.gz\", index=False, header=False, compression=\"gzip\")"
   ]
  },
  {
   "cell_type": "code",
   "execution_count": null,
   "metadata": {},
   "outputs": [],
   "source": []
  }
 ],
 "metadata": {
  "kernelspec": {
   "display_name": "Python 3",
   "language": "python",
   "name": "python3"
  },
  "language_info": {
   "codemirror_mode": {
    "name": "ipython",
    "version": 3
   },
   "file_extension": ".py",
   "mimetype": "text/x-python",
   "name": "python",
   "nbconvert_exporter": "python",
   "pygments_lexer": "ipython3",
   "version": "3.5.2"
  }
 },
 "nbformat": 4,
 "nbformat_minor": 2
}
